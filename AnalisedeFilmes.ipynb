{
 "cells": [
  {
   "cell_type": "code",
   "execution_count": 21,
   "metadata": {},
   "outputs": [],
   "source": [
    "import pandas as pd"
   ]
  },
  {
   "cell_type": "code",
   "execution_count": 2,
   "metadata": {},
   "outputs": [
    {
     "data": {
      "text/plain": [
       "list"
      ]
     },
     "execution_count": 2,
     "metadata": {},
     "output_type": "execute_result"
    }
   ],
   "source": [
    "# Importando dados imdb\n",
    "imdb = pd.read_html('https://www.imdb.com/chart/top/?ref_=nv_mv_250')\n",
    "type(imdb)"
   ]
  },
  {
   "cell_type": "code",
   "execution_count": 3,
   "metadata": {},
   "outputs": [
    {
     "data": {
      "text/plain": [
       "1"
      ]
     },
     "execution_count": 3,
     "metadata": {},
     "output_type": "execute_result"
    }
   ],
   "source": [
    "# Verificando quantos itens consta na lista\n",
    "len(imdb)"
   ]
  },
  {
   "cell_type": "code",
   "execution_count": 4,
   "metadata": {},
   "outputs": [
    {
     "data": {
      "text/html": [
       "<div>\n",
       "<style scoped>\n",
       "    .dataframe tbody tr th:only-of-type {\n",
       "        vertical-align: middle;\n",
       "    }\n",
       "\n",
       "    .dataframe tbody tr th {\n",
       "        vertical-align: top;\n",
       "    }\n",
       "\n",
       "    .dataframe thead th {\n",
       "        text-align: right;\n",
       "    }\n",
       "</style>\n",
       "<table border=\"1\" class=\"dataframe\">\n",
       "  <thead>\n",
       "    <tr style=\"text-align: right;\">\n",
       "      <th></th>\n",
       "      <th>Unnamed: 0</th>\n",
       "      <th>Rank &amp; Title</th>\n",
       "      <th>IMDb Rating</th>\n",
       "      <th>Your Rating</th>\n",
       "      <th>Unnamed: 4</th>\n",
       "    </tr>\n",
       "  </thead>\n",
       "  <tbody>\n",
       "    <tr>\n",
       "      <td>0</td>\n",
       "      <td>NaN</td>\n",
       "      <td>1.  Um Sonho de Liberdade  (1994)</td>\n",
       "      <td>9.2</td>\n",
       "      <td>12345678910 NOT YET RELEASED  Seen</td>\n",
       "      <td>NaN</td>\n",
       "    </tr>\n",
       "    <tr>\n",
       "      <td>1</td>\n",
       "      <td>NaN</td>\n",
       "      <td>2.  O Poderoso Chefão  (1972)</td>\n",
       "      <td>9.1</td>\n",
       "      <td>12345678910 NOT YET RELEASED  Seen</td>\n",
       "      <td>NaN</td>\n",
       "    </tr>\n",
       "    <tr>\n",
       "      <td>2</td>\n",
       "      <td>NaN</td>\n",
       "      <td>3.  O Poderoso Chefão II  (1974)</td>\n",
       "      <td>9.0</td>\n",
       "      <td>12345678910 NOT YET RELEASED  Seen</td>\n",
       "      <td>NaN</td>\n",
       "    </tr>\n",
       "    <tr>\n",
       "      <td>3</td>\n",
       "      <td>NaN</td>\n",
       "      <td>4.  Batman: O Cavaleiro das Trevas  (2008)</td>\n",
       "      <td>9.0</td>\n",
       "      <td>12345678910 NOT YET RELEASED  Seen</td>\n",
       "      <td>NaN</td>\n",
       "    </tr>\n",
       "    <tr>\n",
       "      <td>4</td>\n",
       "      <td>NaN</td>\n",
       "      <td>5.  12 Homens e uma Sentença  (1957)</td>\n",
       "      <td>8.9</td>\n",
       "      <td>12345678910 NOT YET RELEASED  Seen</td>\n",
       "      <td>NaN</td>\n",
       "    </tr>\n",
       "    <tr>\n",
       "      <td>...</td>\n",
       "      <td>...</td>\n",
       "      <td>...</td>\n",
       "      <td>...</td>\n",
       "      <td>...</td>\n",
       "      <td>...</td>\n",
       "    </tr>\n",
       "    <tr>\n",
       "      <td>245</td>\n",
       "      <td>NaN</td>\n",
       "      <td>246.  Um Contratempo  (2016)</td>\n",
       "      <td>8.0</td>\n",
       "      <td>12345678910 NOT YET RELEASED  Seen</td>\n",
       "      <td>NaN</td>\n",
       "    </tr>\n",
       "    <tr>\n",
       "      <td>246</td>\n",
       "      <td>NaN</td>\n",
       "      <td>247.  Aladdin  (1992)</td>\n",
       "      <td>8.0</td>\n",
       "      <td>12345678910 NOT YET RELEASED  Seen</td>\n",
       "      <td>NaN</td>\n",
       "    </tr>\n",
       "    <tr>\n",
       "      <td>247</td>\n",
       "      <td>NaN</td>\n",
       "      <td>248.  O Castelo no Céu  (1986)</td>\n",
       "      <td>8.0</td>\n",
       "      <td>12345678910 NOT YET RELEASED  Seen</td>\n",
       "      <td>NaN</td>\n",
       "    </tr>\n",
       "    <tr>\n",
       "      <td>248</td>\n",
       "      <td>NaN</td>\n",
       "      <td>249.  A Canção do Oceano  (2014)</td>\n",
       "      <td>8.0</td>\n",
       "      <td>12345678910 NOT YET RELEASED  Seen</td>\n",
       "      <td>NaN</td>\n",
       "    </tr>\n",
       "    <tr>\n",
       "      <td>249</td>\n",
       "      <td>NaN</td>\n",
       "      <td>250.  Swades: We, the People  (2004)</td>\n",
       "      <td>8.0</td>\n",
       "      <td>12345678910 NOT YET RELEASED  Seen</td>\n",
       "      <td>NaN</td>\n",
       "    </tr>\n",
       "  </tbody>\n",
       "</table>\n",
       "<p>250 rows × 5 columns</p>\n",
       "</div>"
      ],
      "text/plain": [
       "     Unnamed: 0                                Rank & Title  IMDb Rating  \\\n",
       "0           NaN           1.  Um Sonho de Liberdade  (1994)          9.2   \n",
       "1           NaN               2.  O Poderoso Chefão  (1972)          9.1   \n",
       "2           NaN            3.  O Poderoso Chefão II  (1974)          9.0   \n",
       "3           NaN  4.  Batman: O Cavaleiro das Trevas  (2008)          9.0   \n",
       "4           NaN        5.  12 Homens e uma Sentença  (1957)          8.9   \n",
       "..          ...                                         ...          ...   \n",
       "245         NaN                246.  Um Contratempo  (2016)          8.0   \n",
       "246         NaN                       247.  Aladdin  (1992)          8.0   \n",
       "247         NaN              248.  O Castelo no Céu  (1986)          8.0   \n",
       "248         NaN            249.  A Canção do Oceano  (2014)          8.0   \n",
       "249         NaN        250.  Swades: We, the People  (2004)          8.0   \n",
       "\n",
       "                            Your Rating  Unnamed: 4  \n",
       "0    12345678910 NOT YET RELEASED  Seen         NaN  \n",
       "1    12345678910 NOT YET RELEASED  Seen         NaN  \n",
       "2    12345678910 NOT YET RELEASED  Seen         NaN  \n",
       "3    12345678910 NOT YET RELEASED  Seen         NaN  \n",
       "4    12345678910 NOT YET RELEASED  Seen         NaN  \n",
       "..                                  ...         ...  \n",
       "245  12345678910 NOT YET RELEASED  Seen         NaN  \n",
       "246  12345678910 NOT YET RELEASED  Seen         NaN  \n",
       "247  12345678910 NOT YET RELEASED  Seen         NaN  \n",
       "248  12345678910 NOT YET RELEASED  Seen         NaN  \n",
       "249  12345678910 NOT YET RELEASED  Seen         NaN  \n",
       "\n",
       "[250 rows x 5 columns]"
      ]
     },
     "execution_count": 4,
     "metadata": {},
     "output_type": "execute_result"
    }
   ],
   "source": [
    "# Definindo um dataset de melhores filmes do IMDB\n",
    "best_imdb = imdb[0]\n",
    "best_imdb"
   ]
  },
  {
   "cell_type": "code",
   "execution_count": 5,
   "metadata": {},
   "outputs": [
    {
     "data": {
      "text/plain": [
       "'U'"
      ]
     },
     "execution_count": 5,
     "metadata": {},
     "output_type": "execute_result"
    }
   ],
   "source": [
    "best_imdb['Rank & Title'][0][4]"
   ]
  },
  {
   "cell_type": "code",
   "execution_count": 6,
   "metadata": {},
   "outputs": [
    {
     "data": {
      "text/plain": [
       "0    12345678910 NOT YET RELEASED  Seen\n",
       "Name: Your Rating, dtype: object"
      ]
     },
     "execution_count": 6,
     "metadata": {},
     "output_type": "execute_result"
    }
   ],
   "source": [
    "rating = best_imdb['Your Rating']\n",
    "rating.drop_duplicates()"
   ]
  },
  {
   "cell_type": "code",
   "execution_count": 7,
   "metadata": {},
   "outputs": [
    {
     "data": {
      "text/plain": [
       "5"
      ]
     },
     "execution_count": 7,
     "metadata": {},
     "output_type": "execute_result"
    }
   ],
   "source": [
    "# Analogamente para o Tomatoes\n",
    "tomatoes = pd.read_html('https://www.rottentomatoes.com/top/bestofrt/')\n",
    "len(tomatoes)"
   ]
  },
  {
   "cell_type": "code",
   "execution_count": 8,
   "metadata": {},
   "outputs": [
    {
     "data": {
      "text/html": [
       "<div>\n",
       "<style scoped>\n",
       "    .dataframe tbody tr th:only-of-type {\n",
       "        vertical-align: middle;\n",
       "    }\n",
       "\n",
       "    .dataframe tbody tr th {\n",
       "        vertical-align: top;\n",
       "    }\n",
       "\n",
       "    .dataframe thead th {\n",
       "        text-align: right;\n",
       "    }\n",
       "</style>\n",
       "<table border=\"1\" class=\"dataframe\">\n",
       "  <thead>\n",
       "    <tr style=\"text-align: right;\">\n",
       "      <th></th>\n",
       "      <th>Rank</th>\n",
       "      <th>RatingTomatometer</th>\n",
       "      <th>Title</th>\n",
       "      <th>No. of Reviews</th>\n",
       "    </tr>\n",
       "  </thead>\n",
       "  <tbody>\n",
       "    <tr>\n",
       "      <td>0</td>\n",
       "      <td>1.0</td>\n",
       "      <td>97%</td>\n",
       "      <td>Black Panther (2018)</td>\n",
       "      <td>493</td>\n",
       "    </tr>\n",
       "    <tr>\n",
       "      <td>1</td>\n",
       "      <td>2.0</td>\n",
       "      <td>94%</td>\n",
       "      <td>Avengers: Endgame (2019)</td>\n",
       "      <td>504</td>\n",
       "    </tr>\n",
       "    <tr>\n",
       "      <td>2</td>\n",
       "      <td>3.0</td>\n",
       "      <td>93%</td>\n",
       "      <td>Us (2019)</td>\n",
       "      <td>512</td>\n",
       "    </tr>\n",
       "    <tr>\n",
       "      <td>3</td>\n",
       "      <td>4.0</td>\n",
       "      <td>97%</td>\n",
       "      <td>Toy Story 4 (2019)</td>\n",
       "      <td>425</td>\n",
       "    </tr>\n",
       "    <tr>\n",
       "      <td>4</td>\n",
       "      <td>5.0</td>\n",
       "      <td>97%</td>\n",
       "      <td>Mission: Impossible - Fallout (2018)</td>\n",
       "      <td>415</td>\n",
       "    </tr>\n",
       "    <tr>\n",
       "      <td>...</td>\n",
       "      <td>...</td>\n",
       "      <td>...</td>\n",
       "      <td>...</td>\n",
       "      <td>...</td>\n",
       "    </tr>\n",
       "    <tr>\n",
       "      <td>95</td>\n",
       "      <td>96.0</td>\n",
       "      <td>100%</td>\n",
       "      <td>12 Angry Men (Twelve Angry Men) (1957)</td>\n",
       "      <td>52</td>\n",
       "    </tr>\n",
       "    <tr>\n",
       "      <td>96</td>\n",
       "      <td>97.0</td>\n",
       "      <td>98%</td>\n",
       "      <td>The Lady Vanishes (1938)</td>\n",
       "      <td>43</td>\n",
       "    </tr>\n",
       "    <tr>\n",
       "      <td>97</td>\n",
       "      <td>98.0</td>\n",
       "      <td>100%</td>\n",
       "      <td>The 400 Blows (Les Quatre cents coups) (1959)</td>\n",
       "      <td>60</td>\n",
       "    </tr>\n",
       "    <tr>\n",
       "      <td>98</td>\n",
       "      <td>99.0</td>\n",
       "      <td>98%</td>\n",
       "      <td>Toy Story 3 (2010)</td>\n",
       "      <td>305</td>\n",
       "    </tr>\n",
       "    <tr>\n",
       "      <td>99</td>\n",
       "      <td>100.0</td>\n",
       "      <td>100%</td>\n",
       "      <td>Kind Hearts and Coronets (1949)</td>\n",
       "      <td>46</td>\n",
       "    </tr>\n",
       "  </tbody>\n",
       "</table>\n",
       "<p>100 rows × 4 columns</p>\n",
       "</div>"
      ],
      "text/plain": [
       "     Rank RatingTomatometer                                          Title  \\\n",
       "0     1.0               97%                           Black Panther (2018)   \n",
       "1     2.0               94%                       Avengers: Endgame (2019)   \n",
       "2     3.0               93%                                      Us (2019)   \n",
       "3     4.0               97%                             Toy Story 4 (2019)   \n",
       "4     5.0               97%           Mission: Impossible - Fallout (2018)   \n",
       "..    ...               ...                                            ...   \n",
       "95   96.0              100%         12 Angry Men (Twelve Angry Men) (1957)   \n",
       "96   97.0               98%                       The Lady Vanishes (1938)   \n",
       "97   98.0              100%  The 400 Blows (Les Quatre cents coups) (1959)   \n",
       "98   99.0               98%                             Toy Story 3 (2010)   \n",
       "99  100.0              100%                Kind Hearts and Coronets (1949)   \n",
       "\n",
       "    No. of Reviews  \n",
       "0              493  \n",
       "1              504  \n",
       "2              512  \n",
       "3              425  \n",
       "4              415  \n",
       "..             ...  \n",
       "95              52  \n",
       "96              43  \n",
       "97              60  \n",
       "98             305  \n",
       "99              46  \n",
       "\n",
       "[100 rows x 4 columns]"
      ]
     },
     "execution_count": 8,
     "metadata": {},
     "output_type": "execute_result"
    }
   ],
   "source": [
    "# Procurando o item da lista que corresponde aos melhores filmes da página web ...\n",
    "best_tomatoes = tomatoes[2]\n",
    "best_tomatoes"
   ]
  },
  {
   "cell_type": "code",
   "execution_count": 9,
   "metadata": {},
   "outputs": [
    {
     "data": {
      "text/plain": [
       "'B'"
      ]
     },
     "execution_count": 9,
     "metadata": {},
     "output_type": "execute_result"
    }
   ],
   "source": [
    "best_tomatoes['Title'][0][0]"
   ]
  },
  {
   "cell_type": "code",
   "execution_count": 10,
   "metadata": {},
   "outputs": [
    {
     "data": {
      "text/plain": [
       "pandas.core.frame.DataFrame"
      ]
     },
     "execution_count": 10,
     "metadata": {},
     "output_type": "execute_result"
    }
   ],
   "source": [
    "type(best_tomatoes)"
   ]
  },
  {
   "cell_type": "code",
   "execution_count": 11,
   "metadata": {},
   "outputs": [],
   "source": [
    "# 1001 filmes antes de morrer (2017)\n",
    "films1001 = pd.read_html('https://en.wikipedia.org/wiki/1001_Movies_You_Must_See_Before_You_Die')\n",
    "\n"
   ]
  },
  {
   "cell_type": "code",
   "execution_count": 12,
   "metadata": {},
   "outputs": [
    {
     "data": {
      "text/plain": [
       "5"
      ]
     },
     "execution_count": 12,
     "metadata": {},
     "output_type": "execute_result"
    }
   ],
   "source": [
    "len(films1001)"
   ]
  },
  {
   "cell_type": "code",
   "execution_count": 13,
   "metadata": {},
   "outputs": [
    {
     "data": {
      "text/html": [
       "<div>\n",
       "<style scoped>\n",
       "    .dataframe tbody tr th:only-of-type {\n",
       "        vertical-align: middle;\n",
       "    }\n",
       "\n",
       "    .dataframe tbody tr th {\n",
       "        vertical-align: top;\n",
       "    }\n",
       "\n",
       "    .dataframe thead tr th {\n",
       "        text-align: left;\n",
       "    }\n",
       "</style>\n",
       "<table border=\"1\" class=\"dataframe\">\n",
       "  <thead>\n",
       "    <tr>\n",
       "      <th></th>\n",
       "      <th colspan=\"4\" halign=\"left\">Movies (2017 edition)</th>\n",
       "    </tr>\n",
       "    <tr>\n",
       "      <th></th>\n",
       "      <th>Year</th>\n",
       "      <th>Title</th>\n",
       "      <th>Director</th>\n",
       "      <th>Country</th>\n",
       "    </tr>\n",
       "  </thead>\n",
       "  <tbody>\n",
       "    <tr>\n",
       "      <td>0</td>\n",
       "      <td>1902</td>\n",
       "      <td>Le voyage dans la lune</td>\n",
       "      <td>Georges Méliès</td>\n",
       "      <td>France</td>\n",
       "    </tr>\n",
       "    <tr>\n",
       "      <td>1</td>\n",
       "      <td>1903</td>\n",
       "      <td>The Great Train Robbery</td>\n",
       "      <td>Edwin S. Porter</td>\n",
       "      <td>United States</td>\n",
       "    </tr>\n",
       "    <tr>\n",
       "      <td>2</td>\n",
       "      <td>1915</td>\n",
       "      <td>The Birth of a Nation</td>\n",
       "      <td>D. W. Griffith</td>\n",
       "      <td>United States</td>\n",
       "    </tr>\n",
       "    <tr>\n",
       "      <td>3</td>\n",
       "      <td>1915</td>\n",
       "      <td>Les vampires</td>\n",
       "      <td>Louis Feuillade</td>\n",
       "      <td>France</td>\n",
       "    </tr>\n",
       "    <tr>\n",
       "      <td>4</td>\n",
       "      <td>1916</td>\n",
       "      <td>Intolerance</td>\n",
       "      <td>D. W. Griffith</td>\n",
       "      <td>United States</td>\n",
       "    </tr>\n",
       "    <tr>\n",
       "      <td>...</td>\n",
       "      <td>...</td>\n",
       "      <td>...</td>\n",
       "      <td>...</td>\n",
       "      <td>...</td>\n",
       "    </tr>\n",
       "    <tr>\n",
       "      <td>997</td>\n",
       "      <td>2016</td>\n",
       "      <td>Manchester by the Sea</td>\n",
       "      <td>Kenneth Lonergan</td>\n",
       "      <td>United States</td>\n",
       "    </tr>\n",
       "    <tr>\n",
       "      <td>998</td>\n",
       "      <td>2016</td>\n",
       "      <td>13th</td>\n",
       "      <td>Ava DuVernay</td>\n",
       "      <td>United States</td>\n",
       "    </tr>\n",
       "    <tr>\n",
       "      <td>999</td>\n",
       "      <td>2016</td>\n",
       "      <td>I, Daniel Blake</td>\n",
       "      <td>Ken Loach</td>\n",
       "      <td>United Kingdom</td>\n",
       "    </tr>\n",
       "    <tr>\n",
       "      <td>1000</td>\n",
       "      <td>2016</td>\n",
       "      <td>Arrival</td>\n",
       "      <td>Denis Villeneuve</td>\n",
       "      <td>United States</td>\n",
       "    </tr>\n",
       "    <tr>\n",
       "      <td>1001</td>\n",
       "      <td>2016</td>\n",
       "      <td>Moonlight</td>\n",
       "      <td>Barry Jenkins</td>\n",
       "      <td>United States</td>\n",
       "    </tr>\n",
       "  </tbody>\n",
       "</table>\n",
       "<p>1002 rows × 4 columns</p>\n",
       "</div>"
      ],
      "text/plain": [
       "     Movies (2017 edition)                                             \\\n",
       "                      Year                    Title          Director   \n",
       "0                     1902   Le voyage dans la lune    Georges Méliès   \n",
       "1                     1903  The Great Train Robbery   Edwin S. Porter   \n",
       "2                     1915    The Birth of a Nation    D. W. Griffith   \n",
       "3                     1915             Les vampires   Louis Feuillade   \n",
       "4                     1916              Intolerance    D. W. Griffith   \n",
       "...                    ...                      ...               ...   \n",
       "997                   2016    Manchester by the Sea  Kenneth Lonergan   \n",
       "998                   2016                     13th      Ava DuVernay   \n",
       "999                   2016          I, Daniel Blake         Ken Loach   \n",
       "1000                  2016                  Arrival  Denis Villeneuve   \n",
       "1001                  2016                Moonlight     Barry Jenkins   \n",
       "\n",
       "                      \n",
       "             Country  \n",
       "0             France  \n",
       "1      United States  \n",
       "2      United States  \n",
       "3             France  \n",
       "4      United States  \n",
       "...              ...  \n",
       "997    United States  \n",
       "998    United States  \n",
       "999   United Kingdom  \n",
       "1000   United States  \n",
       "1001   United States  \n",
       "\n",
       "[1002 rows x 4 columns]"
      ]
     },
     "execution_count": 13,
     "metadata": {},
     "output_type": "execute_result"
    }
   ],
   "source": [
    "films1001[1]"
   ]
  },
  {
   "cell_type": "code",
   "execution_count": 14,
   "metadata": {},
   "outputs": [],
   "source": [
    "best_1001_films = films1001[1]"
   ]
  },
  {
   "cell_type": "code",
   "execution_count": 15,
   "metadata": {},
   "outputs": [
    {
     "data": {
      "text/plain": [
       "pandas.core.frame.DataFrame"
      ]
     },
     "execution_count": 15,
     "metadata": {},
     "output_type": "execute_result"
    }
   ],
   "source": [
    "type(best_1001_films)"
   ]
  },
  {
   "cell_type": "code",
   "execution_count": 16,
   "metadata": {},
   "outputs": [
    {
     "data": {
      "text/plain": [
       "0        Le voyage dans la lune\n",
       "1       The Great Train Robbery\n",
       "2         The Birth of a Nation\n",
       "3                  Les vampires\n",
       "4                   Intolerance\n",
       "                 ...           \n",
       "997       Manchester by the Sea\n",
       "998                        13th\n",
       "999             I, Daniel Blake\n",
       "1000                    Arrival\n",
       "1001                  Moonlight\n",
       "Name: Title, Length: 1002, dtype: object"
      ]
     },
     "execution_count": 16,
     "metadata": {},
     "output_type": "execute_result"
    }
   ],
   "source": [
    "best_1001_films['Movies (2017 edition)']['Title']"
   ]
  },
  {
   "cell_type": "code",
   "execution_count": 17,
   "metadata": {},
   "outputs": [
    {
     "data": {
      "text/plain": [
       "0                              Black Panther (2018)\n",
       "1                          Avengers: Endgame (2019)\n",
       "2                                         Us (2019)\n",
       "3                                Toy Story 4 (2019)\n",
       "4              Mission: Impossible - Fallout (2018)\n",
       "                          ...                      \n",
       "95           12 Angry Men (Twelve Angry Men) (1957)\n",
       "96                         The Lady Vanishes (1938)\n",
       "97    The 400 Blows (Les Quatre cents coups) (1959)\n",
       "98                               Toy Story 3 (2010)\n",
       "99                  Kind Hearts and Coronets (1949)\n",
       "Name: Title, Length: 100, dtype: object"
      ]
     },
     "execution_count": 17,
     "metadata": {},
     "output_type": "execute_result"
    }
   ],
   "source": [
    "best_tomatoes['Title']"
   ]
  },
  {
   "cell_type": "code",
   "execution_count": 31,
   "metadata": {},
   "outputs": [],
   "source": [
    "from difflib import SequenceMatcher\n",
    "def similar(a, b):\n",
    "    return SequenceMatcher(None, a, b).ratio()"
   ]
  },
  {
   "cell_type": "code",
   "execution_count": 33,
   "metadata": {},
   "outputs": [
    {
     "data": {
      "text/plain": [
       "0.7878787878787878"
      ]
     },
     "execution_count": 33,
     "metadata": {},
     "output_type": "execute_result"
    }
   ],
   "source": [
    "similar(best_tomatoes['Title'][0], 'Black Panther')"
   ]
  },
  {
   "cell_type": "code",
   "execution_count": 62,
   "metadata": {},
   "outputs": [
    {
     "name": "stdout",
     "output_type": "stream",
     "text": [
      "The Wizard of Oz (1939) | The Wizard of Oz\n",
      "Mad Max: Fury Road (2015) | Mad Max: Fury Road\n",
      "A Star Is Born (2018) | A Star Is Born\n",
      "It Happened One Night (1934) | It Happened One Night\n",
      "The Third Man (1949) | The Third Man\n",
      "All About Eve (1950) | All About Eve\n",
      "E.T. The Extra-Terrestrial (1982) | E.T. the Extra-Terrestrial\n",
      "The Godfather (1972) | The Godfather\n",
      "Snow White and the Seven Dwarfs (1937) | Snow White and the Seven Dwarfs\n",
      "The Bride of Frankenstein (1935) | Bride of Frankenstein\n",
      "Singin' in the Rain (1952) | Singin' in the Rain\n",
      "The Adventures of Robin Hood (1938) | The Adventures of Robin Hood\n",
      "Manchester by the Sea (2016) | Manchester by the Sea\n",
      "The Maltese Falcon (1941) | The Maltese Falcon\n",
      "A Hard Day's Night (1964) | A Hard Day's Night\n",
      "12 Years a Slave (2013) | 12 Years a Slave\n",
      "The Philadelphia Story (1940) | The Philadelphia Story\n",
      "The Night of the Hunter (1955) | The Night of the Hunter\n",
      "North by Northwest (1959) | North by Northwest\n",
      "Touch of Evil (1958) | Touch of Evil\n",
      "Hell or High Water (2016) | Hell or High Water\n",
      "A Streetcar Named Desire (1951) | A Streetcar Named Desire\n",
      "Lawrence of Arabia (1962) | Lawrence of Arabia\n",
      "The Lady Vanishes (1938) | The Lady Vanishes\n",
      "Kind Hearts and Coronets (1949) | Kind Hearts and Coronets\n"
     ]
    }
   ],
   "source": [
    "for u in range(len(best_tomatoes['Title'])):\n",
    "    for i in range(len(best_1001_films['Movies (2017 edition)']['Title'])):\n",
    "        if similar(best_tomatoes['Title'][u], best_1001_films['Movies (2017 edition)']['Title'][i]) > 0.78:\n",
    "            print(best_tomatoes['Title'][u], '|',  best_1001_films['Movies (2017 edition)']['Title'][i])"
   ]
  },
  {
   "cell_type": "code",
   "execution_count": null,
   "metadata": {},
   "outputs": [],
   "source": []
  }
 ],
 "metadata": {
  "kernelspec": {
   "display_name": "Python 3",
   "language": "python",
   "name": "python3"
  },
  "language_info": {
   "codemirror_mode": {
    "name": "ipython",
    "version": 3
   },
   "file_extension": ".py",
   "mimetype": "text/x-python",
   "name": "python",
   "nbconvert_exporter": "python",
   "pygments_lexer": "ipython3",
   "version": "3.7.4"
  }
 },
 "nbformat": 4,
 "nbformat_minor": 2
}
